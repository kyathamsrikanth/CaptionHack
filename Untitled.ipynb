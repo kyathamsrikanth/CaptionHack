{
 "cells": [
  {
   "cell_type": "code",
   "execution_count": 77,
   "metadata": {},
   "outputs": [
    {
     "name": "stdout",
     "output_type": "stream",
     "text": [
      "A child in a pink dress is climbing up a set of stairs in an entry way .\n"
     ]
    },
    {
     "ename": "AttributeError",
     "evalue": "'str' object has no attribute 'append'",
     "output_type": "error",
     "traceback": [
      "\u001b[0;31m---------------------------------------------------------------------------\u001b[0m",
      "\u001b[0;31mAttributeError\u001b[0m                            Traceback (most recent call last)",
      "\u001b[0;32m<ipython-input-77-22013922a697>\u001b[0m in \u001b[0;36m<module>\u001b[0;34m\u001b[0m\n\u001b[1;32m     24\u001b[0m    \u001b[0ml\u001b[0m\u001b[0;34m=\u001b[0m\u001b[0mcaptions\u001b[0m\u001b[0;34m[\u001b[0m\u001b[0;36m0\u001b[0m\u001b[0;34m]\u001b[0m\u001b[0;34m[\u001b[0m\u001b[0;36m1\u001b[0m\u001b[0;34m]\u001b[0m\u001b[0;34m\u001b[0m\u001b[0;34m\u001b[0m\u001b[0m\n\u001b[1;32m     25\u001b[0m    \u001b[0mprint\u001b[0m\u001b[0;34m(\u001b[0m\u001b[0ml\u001b[0m\u001b[0;34m)\u001b[0m\u001b[0;34m\u001b[0m\u001b[0;34m\u001b[0m\u001b[0m\n\u001b[0;32m---> 26\u001b[0;31m    \u001b[0ma\u001b[0m\u001b[0;34m.\u001b[0m\u001b[0mappend\u001b[0m\u001b[0;34m(\u001b[0m\u001b[0ml\u001b[0m\u001b[0;34m)\u001b[0m\u001b[0;34m\u001b[0m\u001b[0;34m\u001b[0m\u001b[0m\n\u001b[0m\u001b[1;32m     27\u001b[0m \u001b[0;34m\u001b[0m\u001b[0m\n\u001b[1;32m     28\u001b[0m \u001b[0;34m\u001b[0m\u001b[0m\n",
      "\u001b[0;31mAttributeError\u001b[0m: 'str' object has no attribute 'append'"
     ]
    }
   ],
   "source": [
    "captions = [e.strip().split(\"\\t\") for e in open(\"flickr/Flickr8k.token.txt\").readlines()]\n",
    "trainfiles = [e.strip() for e in open(\"flickr/Flickr_8k.trainImages.txt\").readlines()]\n",
    "devfiles = [e.strip() for e in open(\"flickr/Flickr_8k.devImages.txt\").readlines()]\n",
    "testfiles = [e.strip() for e in open(\"flickr/Flickr_8k.testImages.txt\").readlines()]\n",
    "# from collections import defaultdict\n",
    "# captiondict = defaultdict(list)\n",
    "# for pair in captions:\n",
    "#     image = pair[0].split('#')[0]\n",
    "#     caption = pair[1]\n",
    "#     captiondict[image].append(caption)\n",
    "# traindict = {}\n",
    "# devdict = {}\n",
    "# testdict = {}\n",
    "# for f in trainfiles:\n",
    "#     traindict[f] = captiondict[f]\n",
    "# for f in devfiles:\n",
    "#     devdict[f] = captiondict[f]\n",
    "# for f in testfiles:\n",
    "#     testdict[f] = captiondict[f]\n",
    "\n",
    "from collections import defaultdict\n",
    "a=\"lk\"\n",
    "for t in range(len(captions)):\n",
    "   l=captions[0][1]  \n",
    "   print(l)\n",
    "   a.append(l)\n",
    "\n",
    "   \n",
    " cv\n",
    "\n",
    "\n",
    "    \n",
    "\n"
   ]
  },
  {
   "cell_type": "code",
   "execution_count": 18,
   "metadata": {},
   "outputs": [],
   "source": [
    "from keras.preprocessing.text import Tokenizer\n",
    "\n",
    "\n",
    "tokenizer = Tokenizer()\n",
    "\n",
    "tokenizer.fit_on_texts(captiondict)\n",
    "\n",
    "# Encode first two sentences\n",
    "#sentences_to_encode = captiondict[:2]\n",
    "encoded_sentences = tokenizer.texts_to_sequences(captiondict)"
   ]
  },
  {
   "cell_type": "code",
   "execution_count": 19,
   "metadata": {},
   "outputs": [
    {
     "name": "stdout",
     "output_type": "stream",
     "text": [
      "W&B Run: https://app.wandb.ai/univai-ss2019/CaptionHack/runs/kp8kqzmu\n",
      "Call `%%wandb` in the cell containing your training loop to display live results.\n"
     ]
    }
   ],
   "source": [
    "from keras.applications.vgg16 import VGG16, preprocess_input\n",
    "from keras.layers import BatchNormalization, Dense, RepeatVector\n",
    "\n",
    "import wandb\n",
    "from wandb.keras import WandbCallback\n",
    "\n",
    "\n",
    "wandb.init()\n",
    "config = wandb.config\n",
    "\n",
    "# dimensions of our images.\n",
    "config.img_width = 224\n",
    "config.img_height = 224\n",
    "config.epochs = 50\n",
    "config.batch_size = 40\n",
    "\n",
    "image_model = VGG16(include_top=False, weights='imagenet', pooling='avg')\n",
    "\n",
    "for layer in image_model.layers:\n",
    "  layer.trainable = False\n",
    "\n",
    "embedding_size = 300\n",
    "dense_input = BatchNormalization(axis=-1)(image_model.output)\n",
    "image_dense = Dense(units=embedding_size)(dense_input) \n",
    "\n",
    "image_embedding = RepeatVector(1)(image_dense)\n",
    "image_input = image_model.input\n"
   ]
  },
  {
   "cell_type": "code",
   "execution_count": 20,
   "metadata": {},
   "outputs": [],
   "source": [
    "from keras.layers import Embedding, Input\n",
    "\n",
    "vocab_size = 2536\n",
    "embedding_size = 300\n",
    "sentence_input = Input(shape=[None])\n",
    "word_embedding = Embedding(input_dim=vocab_size,\n",
    "                           output_dim=embedding_size\n",
    "                           )(sentence_input)"
   ]
  },
  {
   "cell_type": "code",
   "execution_count": 21,
   "metadata": {},
   "outputs": [],
   "source": [
    "import tensorflow as tf\n",
    "\n",
    "def categorical_crossentropy_from_logits(y_true, y_pred):\n",
    "  y_true = y_true[:, :-1, :]  # Discard the last timestep\n",
    "  y_pred = y_pred[:, :-1, :]  # Discard the last timestep\n",
    "  loss = tf.nn.softmax_cross_entropy_with_logits(labels=y_true,\n",
    "                                                 logits=y_pred)\n",
    "  return loss"
   ]
  },
  {
   "cell_type": "code",
   "execution_count": 22,
   "metadata": {},
   "outputs": [],
   "source": [
    "import tensorflow as tf\n",
    "\n",
    "def categorical_accuracy_with_variable_timestep(y_true, y_pred):\n",
    "  y_true = y_true[:, :-1, :]  # Discard the last timestep\n",
    "  y_pred = y_pred[:, :-1, :]  # Discard the last timestep\n",
    "\n",
    "  # Flatten the timestep dimension\n",
    "  shape = tf.shape(y_true)\n",
    "  y_true = tf.reshape(y_true, [-1, shape[-1]])\n",
    "  y_pred = tf.reshape(y_pred, [-1, shape[-1]])\n",
    "\n",
    "  # Discard rows that are all zeros as they represent padding words.\n",
    "  is_zero_y_true = tf.equal(y_true, 0)\n",
    "  is_zero_row_y_true = tf.reduce_all(is_zero_y_true, axis=-1)\n",
    "  y_true = tf.boolean_mask(y_true, ~is_zero_row_y_true)\n",
    "  y_pred = tf.boolean_mask(y_pred, ~is_zero_row_y_true)\n",
    "\n",
    "  accuracy = tf.reduce_mean(tf.cast(tf.equal(tf.argmax(y_true, axis=1),\n",
    "                                              tf.argmax(y_pred, axis=1)),\n",
    "                                    dtype=tf.float32))\n",
    "  return accuracy"
   ]
  },
  {
   "cell_type": "code",
   "execution_count": 25,
   "metadata": {},
   "outputs": [],
   "source": [
    "from keras.layers import (BatchNormalization, Concatenate, Dense, LSTM,\n",
    "                          TimeDistributed)\n",
    "from keras.models import Model\n",
    "from keras.optimizers import Adam\n",
    "\n",
    "sequence_input = Concatenate(axis=1)([image_embedding, word_embedding])\n",
    "\n",
    "learning_rate = 0.00051\n",
    "lstm_output_size = 300\n",
    "vocab_size = 9603\n",
    "\n",
    "lstm_layers = 3\n",
    "dropout_rate = 0.22\n",
    "input_ = sequence_input\n",
    "\n",
    "for _ in range(lstm_layers):\n",
    "  input_ = BatchNormalization(axis=-1)(input_)\n",
    "  lstm_out = LSTM(units=lstm_output_size,\n",
    "                  return_sequences=True,\n",
    "                  dropout=dropout_rate,\n",
    "                  recurrent_dropout=dropout_rate)(input_)\n",
    "  input_ = lstm_out\n",
    "sequence_output = TimeDistributed(Dense(units=vocab_size))(lstm_out)\n",
    "\n",
    "model = Model(inputs=[image_input, sentence_input],\n",
    "              outputs=sequence_output)\n",
    "model.compile(optimizer=Adam(lr=learning_rate),\n",
    "              loss=categorical_crossentropy_from_logits,\n",
    "              metrics=[categorical_accuracy_with_variable_timestep])"
   ]
  },
  {
   "cell_type": "code",
   "execution_count": 26,
   "metadata": {},
   "outputs": [
    {
     "ename": "TypeError",
     "evalue": "listdir: path should be string, bytes, os.PathLike, integer or None, not dict",
     "output_type": "error",
     "traceback": [
      "\u001b[0;31m---------------------------------------------------------------------------\u001b[0m",
      "\u001b[0;31mTypeError\u001b[0m                                 Traceback (most recent call last)",
      "\u001b[0;32m<ipython-input-26-bcdb16a4f46d>\u001b[0m in \u001b[0;36m<module>\u001b[0;34m\u001b[0m\n\u001b[1;32m     14\u001b[0m     \u001b[0mtarget_size\u001b[0m\u001b[0;34m=\u001b[0m\u001b[0;34m(\u001b[0m\u001b[0;36m224\u001b[0m\u001b[0;34m,\u001b[0m \u001b[0;36m224\u001b[0m\u001b[0;34m)\u001b[0m\u001b[0;34m,\u001b[0m\u001b[0;34m\u001b[0m\u001b[0;34m\u001b[0m\u001b[0m\n\u001b[1;32m     15\u001b[0m     \u001b[0mbatch_size\u001b[0m\u001b[0;34m=\u001b[0m\u001b[0;36m40\u001b[0m\u001b[0;34m,\u001b[0m\u001b[0;34m\u001b[0m\u001b[0;34m\u001b[0m\u001b[0m\n\u001b[0;32m---> 16\u001b[0;31m     class_mode='binary')\n\u001b[0m\u001b[1;32m     17\u001b[0m \u001b[0;34m\u001b[0m\u001b[0m\n\u001b[1;32m     18\u001b[0m validation_generator = test_datagen.flow_from_directory(\n",
      "\u001b[0;32m/opt/conda/lib/python3.7/site-packages/keras_preprocessing/image/image_data_generator.py\u001b[0m in \u001b[0;36mflow_from_directory\u001b[0;34m(self, directory, target_size, color_mode, classes, class_mode, batch_size, shuffle, seed, save_to_dir, save_prefix, save_format, follow_links, subset, interpolation)\u001b[0m\n\u001b[1;32m    536\u001b[0m             \u001b[0mfollow_links\u001b[0m\u001b[0;34m=\u001b[0m\u001b[0mfollow_links\u001b[0m\u001b[0;34m,\u001b[0m\u001b[0;34m\u001b[0m\u001b[0;34m\u001b[0m\u001b[0m\n\u001b[1;32m    537\u001b[0m             \u001b[0msubset\u001b[0m\u001b[0;34m=\u001b[0m\u001b[0msubset\u001b[0m\u001b[0;34m,\u001b[0m\u001b[0;34m\u001b[0m\u001b[0;34m\u001b[0m\u001b[0m\n\u001b[0;32m--> 538\u001b[0;31m             \u001b[0minterpolation\u001b[0m\u001b[0;34m=\u001b[0m\u001b[0minterpolation\u001b[0m\u001b[0;34m\u001b[0m\u001b[0;34m\u001b[0m\u001b[0m\n\u001b[0m\u001b[1;32m    539\u001b[0m         )\n\u001b[1;32m    540\u001b[0m \u001b[0;34m\u001b[0m\u001b[0m\n",
      "\u001b[0;32m/opt/conda/lib/python3.7/site-packages/keras_preprocessing/image/directory_iterator.py\u001b[0m in \u001b[0;36m__init__\u001b[0;34m(self, directory, image_data_generator, target_size, color_mode, classes, class_mode, batch_size, shuffle, seed, data_format, save_to_dir, save_prefix, save_format, follow_links, subset, interpolation, dtype)\u001b[0m\n\u001b[1;32m    103\u001b[0m         \u001b[0;32mif\u001b[0m \u001b[0;32mnot\u001b[0m \u001b[0mclasses\u001b[0m\u001b[0;34m:\u001b[0m\u001b[0;34m\u001b[0m\u001b[0;34m\u001b[0m\u001b[0m\n\u001b[1;32m    104\u001b[0m             \u001b[0mclasses\u001b[0m \u001b[0;34m=\u001b[0m \u001b[0;34m[\u001b[0m\u001b[0;34m]\u001b[0m\u001b[0;34m\u001b[0m\u001b[0;34m\u001b[0m\u001b[0m\n\u001b[0;32m--> 105\u001b[0;31m             \u001b[0;32mfor\u001b[0m \u001b[0msubdir\u001b[0m \u001b[0;32min\u001b[0m \u001b[0msorted\u001b[0m\u001b[0;34m(\u001b[0m\u001b[0mos\u001b[0m\u001b[0;34m.\u001b[0m\u001b[0mlistdir\u001b[0m\u001b[0;34m(\u001b[0m\u001b[0mdirectory\u001b[0m\u001b[0;34m)\u001b[0m\u001b[0;34m)\u001b[0m\u001b[0;34m:\u001b[0m\u001b[0;34m\u001b[0m\u001b[0;34m\u001b[0m\u001b[0m\n\u001b[0m\u001b[1;32m    106\u001b[0m                 \u001b[0;32mif\u001b[0m \u001b[0mos\u001b[0m\u001b[0;34m.\u001b[0m\u001b[0mpath\u001b[0m\u001b[0;34m.\u001b[0m\u001b[0misdir\u001b[0m\u001b[0;34m(\u001b[0m\u001b[0mos\u001b[0m\u001b[0;34m.\u001b[0m\u001b[0mpath\u001b[0m\u001b[0;34m.\u001b[0m\u001b[0mjoin\u001b[0m\u001b[0;34m(\u001b[0m\u001b[0mdirectory\u001b[0m\u001b[0;34m,\u001b[0m \u001b[0msubdir\u001b[0m\u001b[0;34m)\u001b[0m\u001b[0;34m)\u001b[0m\u001b[0;34m:\u001b[0m\u001b[0;34m\u001b[0m\u001b[0;34m\u001b[0m\u001b[0m\n\u001b[1;32m    107\u001b[0m                     \u001b[0mclasses\u001b[0m\u001b[0;34m.\u001b[0m\u001b[0mappend\u001b[0m\u001b[0;34m(\u001b[0m\u001b[0msubdir\u001b[0m\u001b[0;34m)\u001b[0m\u001b[0;34m\u001b[0m\u001b[0;34m\u001b[0m\u001b[0m\n",
      "\u001b[0;31mTypeError\u001b[0m: listdir: path should be string, bytes, os.PathLike, integer or None, not dict"
     ]
    }
   ],
   "source": [
    "from keras.preprocessing.image import ImageDataGenerator\n",
    "\n",
    "train_datagen = ImageDataGenerator(\n",
    "    rescale=1. / 255,\n",
    "    #shear_range=0.2,\n",
    "    #zoom_range=0.2,\n",
    "    #horizontal_flip=True\n",
    "    )\n",
    "\n",
    "test_datagen = ImageDataGenerator(rescale=1. / 255)\n",
    "\n",
    "train_generator = train_datagen.flow_from_directory(\n",
    "    traindict,\n",
    "    target_size=(224, 224),\n",
    "    batch_size=40,\n",
    "    class_mode='binary')\n",
    "\n",
    "validation_generator = test_datagen.flow_from_directory(\n",
    "    devdict,\n",
    "    target_size=(224,224),\n",
    "    batch_size=40,\n",
    "    class_mode='binary')\n",
    "  # the number of passes through the entire training set\n",
    "\n",
    "# model is the same variable as the one in the previous code snippet\n",
    "model.fit_generator(\n",
    "    train_generator,\n",
    "    steps_per_epoch=nb_train_samples // batch_size,\n",
    "    epochs=epochs,\n",
    "    callbacks=[WandbCallback()],\n",
    "    validation_data=validation_generator,\n",
    "    validation_steps=nb_validation_samples // batch_size)"
   ]
  },
  {
   "cell_type": "code",
   "execution_count": null,
   "metadata": {},
   "outputs": [],
   "source": []
  },
  {
   "cell_type": "code",
   "execution_count": null,
   "metadata": {},
   "outputs": [],
   "source": []
  }
 ],
 "metadata": {
  "kernelspec": {
   "display_name": "Python 3",
   "language": "python",
   "name": "python3"
  },
  "language_info": {
   "codemirror_mode": {
    "name": "ipython",
    "version": 3
   },
   "file_extension": ".py",
   "mimetype": "text/x-python",
   "name": "python",
   "nbconvert_exporter": "python",
   "pygments_lexer": "ipython3",
   "version": "3.7.3"
  }
 },
 "nbformat": 4,
 "nbformat_minor": 2
}
